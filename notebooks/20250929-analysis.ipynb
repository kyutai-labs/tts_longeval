{
 "cells": [
  {
   "cell_type": "code",
   "execution_count": null,
   "id": "0",
   "metadata": {},
   "outputs": [],
   "source": [
    "%load_ext autoreload\n",
    "%autoreload 2"
   ]
  },
  {
   "cell_type": "code",
   "execution_count": null,
   "id": "1",
   "metadata": {},
   "outputs": [],
   "source": [
    "import pandas as pd\n",
    "import plotly.express as px"
   ]
  },
  {
   "cell_type": "code",
   "execution_count": null,
   "id": "2",
   "metadata": {},
   "outputs": [],
   "source": [
    "# df = pd.read_parquet(\"metrics_per_sample.parquet\")\n",
    "\n",
    "df = pd.read_parquet(\n",
    "    # \"/lustre/scwpod02/client/kyutai/vaclav/data/tts_longform_debug/2/metrics.parquet\"\n",
    "    \"/lustre/scwpod02/client/kyutai/vaclav/data/tts_longform_debug/2/metrics_0930_15000.parquet\"\n",
    ")\n",
    "df[\"gender\"] = df[\"tags\"].apply(lambda x: \"f\" if \"gender=f\" in x else \"m\")\n",
    "df = df.drop(\n",
    "    columns=[\n",
    "        \"tags\",\n",
    "        \"file\",\n",
    "        \"language\",\n",
    "        # \"nn\",\n",
    "        # \"n_q0.25\",\n",
    "        # \"n_q0.5\",\n",
    "        # \"n_q0.75\",\n",
    "        # \"n_q1.0\",\n",
    "    ]\n",
    ")\n",
    "# Reset index but also change its order to match the file paths\n",
    "df = df.reset_index().set_index([\"dataset\", \"method\", \"sample_id\"]).reset_index()"
   ]
  },
  {
   "cell_type": "code",
   "execution_count": null,
   "id": "3",
   "metadata": {},
   "outputs": [],
   "source": [
    "df"
   ]
  },
  {
   "cell_type": "code",
   "execution_count": null,
   "id": "4",
   "metadata": {},
   "outputs": [],
   "source": [
    "quantiles = [0.25, 0.5, 0.75, 1.0]\n",
    "wer_cols = [f\"w_q{q}\" for q in quantiles]\n",
    "sim_cols = [f\"s_q{q}\" for q in quantiles]\n",
    "drift_cols = [f\"d_q{q}\" for q in quantiles]\n",
    "\n",
    "# Build a list of DataFrames for each quantile\n",
    "dfs = []\n",
    "for q, w_col, s_col, d_col in zip(quantiles, wer_cols, sim_cols, drift_cols):\n",
    "    temp = df.copy()\n",
    "    temp[\"quantile\"] = q\n",
    "    temp[\"wer\"] = temp[w_col]\n",
    "    temp[\"sim\"] = temp[s_col]\n",
    "    temp[\"drift\"] = temp[d_col]\n",
    "    dfs.append(temp)\n",
    "\n",
    "# Concatenate and select relevant columns\n",
    "df_quantile = pd.concat(dfs)\n",
    "df_quantile = df_quantile.drop(columns=wer_cols + sim_cols + drift_cols)\n",
    "df_quantile"
   ]
  },
  {
   "cell_type": "code",
   "execution_count": null,
   "id": "5",
   "metadata": {},
   "outputs": [],
   "source": [
    "df_quantile.head().to_json()"
   ]
  },
  {
   "cell_type": "code",
   "execution_count": null,
   "id": "6",
   "metadata": {},
   "outputs": [],
   "source": [
    "import numpy as np\n",
    "\n",
    "metric = \"drift\"\n",
    "\n",
    "df_bar = (\n",
    "    df_quantile.groupby([\"quantile\", \"method\"])\n",
    "    .agg(\n",
    "        wer_mean=(\"wer\", \"mean\"),\n",
    "        wer_ste=(\"wer\", lambda x: np.std(x, ddof=1) / np.sqrt(len(x))),\n",
    "        sim_mean=(\"sim\", \"mean\"),\n",
    "        sim_ste=(\"sim\", lambda x: np.std(x, ddof=1) / np.sqrt(len(x))),\n",
    "        drift_mean=(\"drift\", \"mean\"),\n",
    "        drift_ste=(\"drift\", lambda x: np.std(x, ddof=1) / np.sqrt(len(x))),\n",
    "    )\n",
    "    .reset_index()\n",
    ")\n",
    "\n",
    "fig = px.bar(\n",
    "    df_bar.query(\"quantile.isin([0.25, 1.0])\"),\n",
    "    x=\"quantile\",\n",
    "    y=\"wer_mean\",\n",
    "    color=\"method\",\n",
    "    barmode=\"group\",\n",
    "    error_y=\"wer_ste\",\n",
    ")\n",
    "fig.show()"
   ]
  },
  {
   "cell_type": "code",
   "execution_count": null,
   "id": "7",
   "metadata": {},
   "outputs": [],
   "source": [
    "fig = px.bar(\n",
    "    df_bar.query(\"quantile.isin([0.25, 1.0])\"),\n",
    "    x=\"quantile\",\n",
    "    y=\"drift_mean\",\n",
    "    color=\"method\",\n",
    "    barmode=\"group\",\n",
    "    error_y=\"drift_ste\",\n",
    ")\n",
    "fig.show()"
   ]
  },
  {
   "cell_type": "code",
   "execution_count": null,
   "id": "8",
   "metadata": {},
   "outputs": [],
   "source": [
    "fig = px.bar(\n",
    "    df_bar.query(\"quantile.isin([0.25, 1.0])\"),\n",
    "    x=\"quantile\",\n",
    "    y=\"sim_mean\",\n",
    "    color=\"method\",\n",
    "    barmode=\"group\",\n",
    "    error_y=\"sim_ste\",\n",
    ")\n",
    "fig.show()"
   ]
  },
  {
   "cell_type": "code",
   "execution_count": null,
   "id": "9",
   "metadata": {},
   "outputs": [],
   "source": [
    "px.bar(\n",
    "    df_quantile.query(\"dataset == 'wikibooks_15000_en'\"),\n",
    "    x=\"quantile\",\n",
    "    y=\"drift\",\n",
    "    color=\"method\",\n",
    ")"
   ]
  },
  {
   "cell_type": "code",
   "execution_count": null,
   "id": "10",
   "metadata": {},
   "outputs": [],
   "source": [
    "dfc = df_quantile.reset_index().drop(columns=[\"gender\"])\n",
    "dfc = dfc.groupby([\"method\", \"quantile\", \"dataset\"]).agg(\n",
    "    {\"wer\": \"mean\", \"sim\": \"mean\", \"drift\": \"mean\"}\n",
    ")\n",
    "dfc = dfc.reset_index()\n",
    "dfc"
   ]
  },
  {
   "cell_type": "code",
   "execution_count": null,
   "id": "11",
   "metadata": {},
   "outputs": [],
   "source": [
    "px.line(\n",
    "    dfc,\n",
    "    x=\"quantile\",\n",
    "    y=\"wer\",\n",
    "    color=\"method\",\n",
    "    facet_col=\"dataset\",\n",
    "    title=\"WER per quantile\",\n",
    ")"
   ]
  },
  {
   "cell_type": "code",
   "execution_count": null,
   "id": "12",
   "metadata": {},
   "outputs": [],
   "source": [
    "px.bar(\n",
    "    dfc.query(\"quantile == 1\"),\n",
    "    x=\"dataset\",\n",
    "    color=\"method\",\n",
    "    barmode=\"group\",\n",
    "    y=\"wer\",\n",
    "    # facet_col=\"dataset\",\n",
    "    title=\"WER of last quantile\",\n",
    ")"
   ]
  },
  {
   "cell_type": "code",
   "execution_count": null,
   "id": "13",
   "metadata": {},
   "outputs": [],
   "source": [
    "px.line(\n",
    "    dfc,\n",
    "    x=\"quantile\",\n",
    "    y=\"sim\",\n",
    "    color=\"method\",\n",
    "    facet_col=\"dataset\",\n",
    "    title=\"Speaker sim per quantile\",\n",
    ")"
   ]
  },
  {
   "cell_type": "code",
   "execution_count": null,
   "id": "14",
   "metadata": {},
   "outputs": [],
   "source": [
    "px.line(\n",
    "    dfc,\n",
    "    x=\"quantile\",\n",
    "    y=\"drift\",\n",
    "    color=\"method\",\n",
    "    facet_col=\"dataset\",\n",
    "    title=\"Drift per quantile\",\n",
    ")"
   ]
  },
  {
   "cell_type": "code",
   "execution_count": null,
   "id": "15",
   "metadata": {},
   "outputs": [],
   "source": [
    "px.scatter(\n",
    "    dfc.loc[dfc[\"quantile\"].isin([1.0])],\n",
    "    x=\"drift\",\n",
    "    y=\"sim\",\n",
    "    color=\"method\",\n",
    "    facet_col=\"dataset\",\n",
    "    # title=\"Speaker sim per quantile\",\n",
    ")"
   ]
  },
  {
   "cell_type": "code",
   "execution_count": null,
   "id": "16",
   "metadata": {},
   "outputs": [],
   "source": []
  },
  {
   "cell_type": "markdown",
   "id": "17",
   "metadata": {},
   "source": [
    "## Sample-level\n"
   ]
  },
  {
   "cell_type": "code",
   "execution_count": null,
   "id": "18",
   "metadata": {},
   "outputs": [],
   "source": [
    "dfc = df.loc[df[\"sample_id\"] == \"en_speaker_5_text_21\"]\n",
    "dfc"
   ]
  },
  {
   "cell_type": "code",
   "execution_count": null,
   "id": "19",
   "metadata": {},
   "outputs": [],
   "source": []
  },
  {
   "cell_type": "code",
   "execution_count": null,
   "id": "20",
   "metadata": {},
   "outputs": [],
   "source": [
    "df"
   ]
  },
  {
   "cell_type": "code",
   "execution_count": null,
   "id": "21",
   "metadata": {},
   "outputs": [],
   "source": [
    "dfd = df.reset_index()\n",
    "dfd = dfd.loc[dfd[\"method\"].isin([\"16s_context\", \"opensourced\"])]\n",
    "# dfd = dfd.query(\"dataset == 'wikibooks_fr'\")"
   ]
  },
  {
   "cell_type": "code",
   "execution_count": null,
   "id": "22",
   "metadata": {},
   "outputs": [],
   "source": [
    "px.histogram(\n",
    "    dfd.loc[dfd[\"w_q1.0\"] < 1],\n",
    "    x=\"w_q1.0\",\n",
    "    color=\"method\",\n",
    "    barmode=\"group\",\n",
    "    facet_col=\"dataset\",\n",
    ")"
   ]
  },
  {
   "cell_type": "code",
   "execution_count": null,
   "id": "23",
   "metadata": {},
   "outputs": [],
   "source": [
    "px.histogram(\n",
    "    dfd,\n",
    "    x=\"s_q1.0\",\n",
    "    color=\"method\",\n",
    "    barmode=\"group\",\n",
    "    facet_col=\"dataset\",\n",
    ")"
   ]
  },
  {
   "cell_type": "code",
   "execution_count": null,
   "id": "24",
   "metadata": {},
   "outputs": [],
   "source": [
    "df"
   ]
  },
  {
   "cell_type": "code",
   "execution_count": null,
   "id": "25",
   "metadata": {},
   "outputs": [],
   "source": [
    "df.sort_values(\"s_q1.0\").head(30)  # .query(\"method == '16s_context'\")"
   ]
  },
  {
   "cell_type": "code",
   "execution_count": null,
   "id": "26",
   "metadata": {},
   "outputs": [],
   "source": []
  },
  {
   "cell_type": "code",
   "execution_count": null,
   "id": "27",
   "metadata": {},
   "outputs": [],
   "source": []
  },
  {
   "cell_type": "code",
   "execution_count": null,
   "id": "28",
   "metadata": {},
   "outputs": [],
   "source": []
  },
  {
   "cell_type": "code",
   "execution_count": null,
   "id": "29",
   "metadata": {},
   "outputs": [],
   "source": []
  }
 ],
 "metadata": {
  "kernelspec": {
   "display_name": "tts-longeval",
   "language": "python",
   "name": "python3"
  },
  "language_info": {
   "codemirror_mode": {
    "name": "ipython",
    "version": 3
   },
   "file_extension": ".py",
   "mimetype": "text/x-python",
   "name": "python",
   "nbconvert_exporter": "python",
   "pygments_lexer": "ipython3",
   "version": "3.12.9"
  }
 },
 "nbformat": 4,
 "nbformat_minor": 5
}
